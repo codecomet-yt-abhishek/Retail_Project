{
 "cells": [
  {
   "cell_type": "code",
   "execution_count": 47,
   "id": "ac233b4f",
   "metadata": {},
   "outputs": [
    {
     "name": "stdout",
     "output_type": "stream",
     "text": [
      "Requirement already satisfied: findspark in /Users/abhishekkumar/anaconda3/lib/python3.11/site-packages (2.0.1)\r\n"
     ]
    }
   ],
   "source": [
    "!pip install findspark\n",
    "\n",
    "import findspark\n",
    "findspark.init()\n",
    "\n",
    "import pyspark\n",
    "from pyspark import SparkContext\n",
    "from pyspark.sql import SparkSession\n",
    "\n",
    "# Creating Spark Session\n",
    "spark = SparkSession.builder.getOrCreate()    \n",
    "#getOrCreate() – This returns a SparkSession object if already exists, creates new one if not exists.\n",
    "\n",
    "# Creating New Session\n",
    "NewSparkSession = SparkSession.newSession"
   ]
  },
  {
   "cell_type": "code",
   "execution_count": 48,
   "id": "b331b11a",
   "metadata": {},
   "outputs": [
    {
     "data": {
      "text/html": [
       "\n",
       "            <div>\n",
       "                <p><b>SparkSession - in-memory</b></p>\n",
       "                \n",
       "        <div>\n",
       "            <p><b>SparkContext</b></p>\n",
       "\n",
       "            <p><a href=\"http://192.168.0.119:4040\">Spark UI</a></p>\n",
       "\n",
       "            <dl>\n",
       "              <dt>Version</dt>\n",
       "                <dd><code>v3.5.0</code></dd>\n",
       "              <dt>Master</dt>\n",
       "                <dd><code>local[*]</code></dd>\n",
       "              <dt>AppName</dt>\n",
       "                <dd><code>pyspark-shell</code></dd>\n",
       "            </dl>\n",
       "        </div>\n",
       "        \n",
       "            </div>\n",
       "        "
      ],
      "text/plain": [
       "<pyspark.sql.session.SparkSession at 0x116eae450>"
      ]
     },
     "execution_count": 48,
     "metadata": {},
     "output_type": "execute_result"
    }
   ],
   "source": [
    "# Method:::: gtActiveSession() – returns an active Spark session.\n",
    "spark.getActiveSession()"
   ]
  },
  {
   "cell_type": "code",
   "execution_count": 49,
   "id": "ac47114c",
   "metadata": {},
   "outputs": [
    {
     "name": "stdout",
     "output_type": "stream",
     "text": [
      "File '/Users/abhishekkumar/Downloads/Project_Dataset/Retail/retail_store_sales.csv' exists.\n"
     ]
    }
   ],
   "source": [
    "import os\n",
    "\n",
    "file_path = \"/Users/abhishekkumar/Downloads/Project_Dataset/Retail/retail_store_sales.csv\"\n",
    "\n",
    "# Check if file exists\n",
    "if os.path.exists(file_path):\n",
    "    print(f\"File '{file_path}' exists.\")\n",
    "else:\n",
    "    print(f\"File '{file_path}' does not exist.\")\n"
   ]
  },
  {
   "cell_type": "code",
   "execution_count": 50,
   "id": "6989f4c4",
   "metadata": {},
   "outputs": [
    {
     "data": {
      "text/html": [
       "<div>\n",
       "<style scoped>\n",
       "    .dataframe tbody tr th:only-of-type {\n",
       "        vertical-align: middle;\n",
       "    }\n",
       "\n",
       "    .dataframe tbody tr th {\n",
       "        vertical-align: top;\n",
       "    }\n",
       "\n",
       "    .dataframe thead th {\n",
       "        text-align: right;\n",
       "    }\n",
       "</style>\n",
       "<table border=\"1\" class=\"dataframe\">\n",
       "  <thead>\n",
       "    <tr style=\"text-align: right;\">\n",
       "      <th></th>\n",
       "      <th>Transaction ID</th>\n",
       "      <th>Customer ID</th>\n",
       "      <th>Category</th>\n",
       "      <th>Item</th>\n",
       "      <th>Price Per Unit</th>\n",
       "      <th>Quantity</th>\n",
       "      <th>Total Spent</th>\n",
       "      <th>Payment Method</th>\n",
       "      <th>Location</th>\n",
       "      <th>Transaction Date</th>\n",
       "      <th>Discount Applied</th>\n",
       "    </tr>\n",
       "  </thead>\n",
       "  <tbody>\n",
       "    <tr>\n",
       "      <th>0</th>\n",
       "      <td>TXN_6867343</td>\n",
       "      <td>CUST_09</td>\n",
       "      <td>Patisserie</td>\n",
       "      <td>Item_10_PAT</td>\n",
       "      <td>18.5</td>\n",
       "      <td>10.0</td>\n",
       "      <td>185.0</td>\n",
       "      <td>Digital Wallet</td>\n",
       "      <td>Online</td>\n",
       "      <td>2024-04-08</td>\n",
       "      <td>True</td>\n",
       "    </tr>\n",
       "    <tr>\n",
       "      <th>1</th>\n",
       "      <td>TXN_3731986</td>\n",
       "      <td>CUST_22</td>\n",
       "      <td>Milk Products</td>\n",
       "      <td>Item_17_MILK</td>\n",
       "      <td>29.0</td>\n",
       "      <td>9.0</td>\n",
       "      <td>261.0</td>\n",
       "      <td>Digital Wallet</td>\n",
       "      <td>Online</td>\n",
       "      <td>2023-07-23</td>\n",
       "      <td>True</td>\n",
       "    </tr>\n",
       "    <tr>\n",
       "      <th>2</th>\n",
       "      <td>TXN_9303719</td>\n",
       "      <td>CUST_02</td>\n",
       "      <td>Butchers</td>\n",
       "      <td>Item_12_BUT</td>\n",
       "      <td>21.5</td>\n",
       "      <td>2.0</td>\n",
       "      <td>43.0</td>\n",
       "      <td>Credit Card</td>\n",
       "      <td>Online</td>\n",
       "      <td>2022-10-05</td>\n",
       "      <td>False</td>\n",
       "    </tr>\n",
       "    <tr>\n",
       "      <th>3</th>\n",
       "      <td>TXN_9458126</td>\n",
       "      <td>CUST_06</td>\n",
       "      <td>Beverages</td>\n",
       "      <td>Item_16_BEV</td>\n",
       "      <td>27.5</td>\n",
       "      <td>9.0</td>\n",
       "      <td>247.5</td>\n",
       "      <td>Credit Card</td>\n",
       "      <td>Online</td>\n",
       "      <td>2022-05-07</td>\n",
       "      <td>NaN</td>\n",
       "    </tr>\n",
       "    <tr>\n",
       "      <th>4</th>\n",
       "      <td>TXN_4575373</td>\n",
       "      <td>CUST_05</td>\n",
       "      <td>Food</td>\n",
       "      <td>Item_6_FOOD</td>\n",
       "      <td>12.5</td>\n",
       "      <td>7.0</td>\n",
       "      <td>87.5</td>\n",
       "      <td>Digital Wallet</td>\n",
       "      <td>Online</td>\n",
       "      <td>2022-10-02</td>\n",
       "      <td>False</td>\n",
       "    </tr>\n",
       "    <tr>\n",
       "      <th>...</th>\n",
       "      <td>...</td>\n",
       "      <td>...</td>\n",
       "      <td>...</td>\n",
       "      <td>...</td>\n",
       "      <td>...</td>\n",
       "      <td>...</td>\n",
       "      <td>...</td>\n",
       "      <td>...</td>\n",
       "      <td>...</td>\n",
       "      <td>...</td>\n",
       "      <td>...</td>\n",
       "    </tr>\n",
       "    <tr>\n",
       "      <th>995</th>\n",
       "      <td>TXN_8420316</td>\n",
       "      <td>CUST_07</td>\n",
       "      <td>Food</td>\n",
       "      <td>Item_14_FOOD</td>\n",
       "      <td>24.5</td>\n",
       "      <td>7.0</td>\n",
       "      <td>171.5</td>\n",
       "      <td>Digital Wallet</td>\n",
       "      <td>In-store</td>\n",
       "      <td>2024-02-21</td>\n",
       "      <td>NaN</td>\n",
       "    </tr>\n",
       "    <tr>\n",
       "      <th>996</th>\n",
       "      <td>TXN_8847569</td>\n",
       "      <td>CUST_16</td>\n",
       "      <td>Electric household essentials</td>\n",
       "      <td>Item_21_EHE</td>\n",
       "      <td>35.0</td>\n",
       "      <td>5.0</td>\n",
       "      <td>175.0</td>\n",
       "      <td>Cash</td>\n",
       "      <td>In-store</td>\n",
       "      <td>2023-07-19</td>\n",
       "      <td>True</td>\n",
       "    </tr>\n",
       "    <tr>\n",
       "      <th>997</th>\n",
       "      <td>TXN_1662766</td>\n",
       "      <td>CUST_18</td>\n",
       "      <td>Milk Products</td>\n",
       "      <td>Item_16_MILK</td>\n",
       "      <td>27.5</td>\n",
       "      <td>2.0</td>\n",
       "      <td>55.0</td>\n",
       "      <td>Digital Wallet</td>\n",
       "      <td>Online</td>\n",
       "      <td>2024-05-19</td>\n",
       "      <td>False</td>\n",
       "    </tr>\n",
       "    <tr>\n",
       "      <th>998</th>\n",
       "      <td>TXN_6276011</td>\n",
       "      <td>CUST_15</td>\n",
       "      <td>Butchers</td>\n",
       "      <td>Item_22_BUT</td>\n",
       "      <td>36.5</td>\n",
       "      <td>4.0</td>\n",
       "      <td>146.0</td>\n",
       "      <td>Cash</td>\n",
       "      <td>Online</td>\n",
       "      <td>2022-06-10</td>\n",
       "      <td>True</td>\n",
       "    </tr>\n",
       "    <tr>\n",
       "      <th>999</th>\n",
       "      <td>TXN_9003488</td>\n",
       "      <td>CUST_11</td>\n",
       "      <td>Computers and electric accessories</td>\n",
       "      <td>Item_4_CEA</td>\n",
       "      <td>9.5</td>\n",
       "      <td>7.0</td>\n",
       "      <td>66.5</td>\n",
       "      <td>Cash</td>\n",
       "      <td>Online</td>\n",
       "      <td>2022-10-22</td>\n",
       "      <td>NaN</td>\n",
       "    </tr>\n",
       "  </tbody>\n",
       "</table>\n",
       "<p>1000 rows × 11 columns</p>\n",
       "</div>"
      ],
      "text/plain": [
       "    Transaction ID Customer ID                            Category          Item  Price Per Unit  Quantity  Total Spent  Payment Method  Location Transaction Date Discount Applied\n",
       "0      TXN_6867343     CUST_09                          Patisserie   Item_10_PAT            18.5      10.0        185.0  Digital Wallet    Online       2024-04-08             True\n",
       "1      TXN_3731986     CUST_22                       Milk Products  Item_17_MILK            29.0       9.0        261.0  Digital Wallet    Online       2023-07-23             True\n",
       "2      TXN_9303719     CUST_02                            Butchers   Item_12_BUT            21.5       2.0         43.0     Credit Card    Online       2022-10-05            False\n",
       "3      TXN_9458126     CUST_06                           Beverages   Item_16_BEV            27.5       9.0        247.5     Credit Card    Online       2022-05-07              NaN\n",
       "4      TXN_4575373     CUST_05                                Food   Item_6_FOOD            12.5       7.0         87.5  Digital Wallet    Online       2022-10-02            False\n",
       "..             ...         ...                                 ...           ...             ...       ...          ...             ...       ...              ...              ...\n",
       "995    TXN_8420316     CUST_07                                Food  Item_14_FOOD            24.5       7.0        171.5  Digital Wallet  In-store       2024-02-21              NaN\n",
       "996    TXN_8847569     CUST_16       Electric household essentials   Item_21_EHE            35.0       5.0        175.0            Cash  In-store       2023-07-19             True\n",
       "997    TXN_1662766     CUST_18                       Milk Products  Item_16_MILK            27.5       2.0         55.0  Digital Wallet    Online       2024-05-19            False\n",
       "998    TXN_6276011     CUST_15                            Butchers   Item_22_BUT            36.5       4.0        146.0            Cash    Online       2022-06-10             True\n",
       "999    TXN_9003488     CUST_11  Computers and electric accessories    Item_4_CEA             9.5       7.0         66.5            Cash    Online       2022-10-22              NaN\n",
       "\n",
       "[1000 rows x 11 columns]"
      ]
     },
     "execution_count": 50,
     "metadata": {},
     "output_type": "execute_result"
    }
   ],
   "source": [
    "import pandas as pd\n",
    "\n",
    "# Read CSV into a DataFrame\n",
    "retail_data = pd.read_csv(file_path)\n",
    "\n",
    "# Display all columns properly\n",
    "pd.set_option('display.max_columns', None)  \n",
    "pd.set_option('display.width', 1000)  \n",
    "\n",
    "# Preview the dataset\n",
    "df.head(1000)\n"
   ]
  },
  {
   "cell_type": "code",
   "execution_count": 51,
   "id": "d71d9a95",
   "metadata": {},
   "outputs": [
    {
     "name": "stdout",
     "output_type": "stream",
     "text": [
      "+--------------+-----------+-----------------------------+------------+--------------+--------+-----------+--------------+--------+----------------+----------------+\n",
      "|Transaction ID|Customer ID|Category                     |Item        |Price Per Unit|Quantity|Total Spent|Payment Method|Location|Transaction Date|Discount Applied|\n",
      "+--------------+-----------+-----------------------------+------------+--------------+--------+-----------+--------------+--------+----------------+----------------+\n",
      "|TXN_6867343   |CUST_09    |Patisserie                   |Item_10_PAT |18.5          |10.0    |185.0      |Digital Wallet|Online  |2024-04-08      |True            |\n",
      "|TXN_3731986   |CUST_22    |Milk Products                |Item_17_MILK|29.0          |9.0     |261.0      |Digital Wallet|Online  |2023-07-23      |True            |\n",
      "|TXN_9303719   |CUST_02    |Butchers                     |Item_12_BUT |21.5          |2.0     |43.0       |Credit Card   |Online  |2022-10-05      |False           |\n",
      "|TXN_9458126   |CUST_06    |Beverages                    |Item_16_BEV |27.5          |9.0     |247.5      |Credit Card   |Online  |2022-05-07      |NULL            |\n",
      "|TXN_4575373   |CUST_05    |Food                         |Item_6_FOOD |12.5          |7.0     |87.5       |Digital Wallet|Online  |2022-10-02      |False           |\n",
      "|TXN_7482416   |CUST_09    |Patisserie                   |NULL        |NULL          |10.0    |200.0      |Credit Card   |Online  |2023-11-30      |NULL            |\n",
      "|TXN_3652209   |CUST_07    |Food                         |Item_1_FOOD |5.0           |8.0     |40.0       |Credit Card   |In-store|2023-06-10      |True            |\n",
      "|TXN_1372952   |CUST_21    |Furniture                    |NULL        |33.5          |NULL    |NULL       |Digital Wallet|In-store|2024-04-02      |True            |\n",
      "|TXN_9728486   |CUST_23    |Furniture                    |Item_16_FUR |27.5          |1.0     |27.5       |Credit Card   |In-store|2023-04-26      |False           |\n",
      "|TXN_2722661   |CUST_25    |Butchers                     |Item_22_BUT |36.5          |3.0     |109.5      |Cash          |Online  |2024-03-14      |False           |\n",
      "|TXN_8776416   |CUST_22    |Butchers                     |Item_3_BUT  |8.0           |9.0     |72.0       |Cash          |In-store|2024-12-14      |True            |\n",
      "|TXN_5422631   |CUST_09    |Milk Products                |NULL        |NULL          |8.0     |52.0       |Digital Wallet|In-store|2025-01-12      |True            |\n",
      "|TXN_5874772   |CUST_23    |Food                         |Item_2_FOOD |6.5           |7.0     |45.5       |Cash          |Online  |2023-09-09      |True            |\n",
      "|TXN_4413070   |CUST_14    |Patisserie                   |Item_24_PAT |39.5          |6.0     |237.0      |Digital Wallet|In-store|2022-05-20      |False           |\n",
      "|TXN_2490363   |CUST_09    |Milk Products                |Item_16_MILK|27.5          |2.0     |55.0       |Digital Wallet|Online  |2022-05-22      |NULL            |\n",
      "|TXN_1809665   |CUST_14    |Beverages                    |NULL        |24.5          |NULL    |NULL       |Credit Card   |In-store|2022-05-11      |NULL            |\n",
      "|TXN_7563311   |CUST_23    |Patisserie                   |Item_17_PAT |29.0          |8.0     |232.0      |Cash          |Online  |2024-11-16      |True            |\n",
      "|TXN_9634894   |CUST_15    |Milk Products                |NULL        |NULL          |10.0    |275.0      |Digital Wallet|Online  |2022-04-17      |NULL            |\n",
      "|TXN_4396807   |CUST_17    |Electric household essentials|Item_13_EHE |23.0          |1.0     |23.0       |Digital Wallet|In-store|2022-02-07      |False           |\n",
      "|TXN_4206593   |CUST_01    |Furniture                    |NULL        |35.0          |NULL    |NULL       |Digital Wallet|Online  |2025-01-13      |False           |\n",
      "+--------------+-----------+-----------------------------+------------+--------------+--------+-----------+--------------+--------+----------------+----------------+\n",
      "only showing top 20 rows\n",
      "\n"
     ]
    }
   ],
   "source": [
    "# Define file path\n",
    "file_path = \"/Users/abhishekkumar/Downloads/Project_Dataset/Retail/retail_store_sales.csv\"\n",
    "\n",
    "# Read CSV into a Spark DataFrame\n",
    "retail_data = spark.read.option(\"header\", True).csv(file_path)\n",
    "\n",
    "# Show all columns\n",
    "retail_data.show(truncate=False)\n"
   ]
  },
  {
   "cell_type": "code",
   "execution_count": 52,
   "id": "9c68527c",
   "metadata": {},
   "outputs": [
    {
     "name": "stdout",
     "output_type": "stream",
     "text": [
      "+--------------+-----------+-----------------------------+------------+--------------+-----------------------+-----------+--------------+--------+----------------+----------------+\n",
      "|transaction_id|customer_id|category_type                |item_type   |price_per_unit|no_of_product_purchased|total_spent|payment_method|address |transaction_date|discount_applied|\n",
      "+--------------+-----------+-----------------------------+------------+--------------+-----------------------+-----------+--------------+--------+----------------+----------------+\n",
      "|TXN_6867343   |CUST_09    |Patisserie                   |Item_10_PAT |18.5          |10.0                   |185.0      |Digital Wallet|Online  |2024-04-08      |true            |\n",
      "|TXN_3731986   |CUST_22    |Milk Products                |Item_17_MILK|29.0          |9.0                    |261.0      |Digital Wallet|Online  |2023-07-23      |true            |\n",
      "|TXN_9303719   |CUST_02    |Butchers                     |Item_12_BUT |21.5          |2.0                    |43.0       |Credit Card   |Online  |2022-10-05      |false           |\n",
      "|TXN_9458126   |CUST_06    |Beverages                    |Item_16_BEV |27.5          |9.0                    |247.5      |Credit Card   |Online  |2022-05-07      |NULL            |\n",
      "|TXN_4575373   |CUST_05    |Food                         |Item_6_FOOD |12.5          |7.0                    |87.5       |Digital Wallet|Online  |2022-10-02      |false           |\n",
      "|TXN_7482416   |CUST_09    |Patisserie                   |NULL        |NULL          |10.0                   |200.0      |Credit Card   |Online  |2023-11-30      |NULL            |\n",
      "|TXN_3652209   |CUST_07    |Food                         |Item_1_FOOD |5.0           |8.0                    |40.0       |Credit Card   |In-store|2023-06-10      |true            |\n",
      "|TXN_1372952   |CUST_21    |Furniture                    |NULL        |33.5          |NULL                   |NULL       |Digital Wallet|In-store|2024-04-02      |true            |\n",
      "|TXN_9728486   |CUST_23    |Furniture                    |Item_16_FUR |27.5          |1.0                    |27.5       |Credit Card   |In-store|2023-04-26      |false           |\n",
      "|TXN_2722661   |CUST_25    |Butchers                     |Item_22_BUT |36.5          |3.0                    |109.5      |Cash          |Online  |2024-03-14      |false           |\n",
      "|TXN_8776416   |CUST_22    |Butchers                     |Item_3_BUT  |8.0           |9.0                    |72.0       |Cash          |In-store|2024-12-14      |true            |\n",
      "|TXN_5422631   |CUST_09    |Milk Products                |NULL        |NULL          |8.0                    |52.0       |Digital Wallet|In-store|2025-01-12      |true            |\n",
      "|TXN_5874772   |CUST_23    |Food                         |Item_2_FOOD |6.5           |7.0                    |45.5       |Cash          |Online  |2023-09-09      |true            |\n",
      "|TXN_4413070   |CUST_14    |Patisserie                   |Item_24_PAT |39.5          |6.0                    |237.0      |Digital Wallet|In-store|2022-05-20      |false           |\n",
      "|TXN_2490363   |CUST_09    |Milk Products                |Item_16_MILK|27.5          |2.0                    |55.0       |Digital Wallet|Online  |2022-05-22      |NULL            |\n",
      "|TXN_1809665   |CUST_14    |Beverages                    |NULL        |24.5          |NULL                   |NULL       |Credit Card   |In-store|2022-05-11      |NULL            |\n",
      "|TXN_7563311   |CUST_23    |Patisserie                   |Item_17_PAT |29.0          |8.0                    |232.0      |Cash          |Online  |2024-11-16      |true            |\n",
      "|TXN_9634894   |CUST_15    |Milk Products                |NULL        |NULL          |10.0                   |275.0      |Digital Wallet|Online  |2022-04-17      |NULL            |\n",
      "|TXN_4396807   |CUST_17    |Electric household essentials|Item_13_EHE |23.0          |1.0                    |23.0       |Digital Wallet|In-store|2022-02-07      |false           |\n",
      "|TXN_4206593   |CUST_01    |Furniture                    |NULL        |35.0          |NULL                   |NULL       |Digital Wallet|Online  |2025-01-13      |false           |\n",
      "+--------------+-----------+-----------------------------+------------+--------------+-----------------------+-----------+--------------+--------+----------------+----------------+\n",
      "only showing top 20 rows\n",
      "\n"
     ]
    }
   ],
   "source": [
    "# Dictionary of existing column names as keys and new column names as values\n",
    "column_mapping = {\n",
    "    'Transaction ID': 'transaction_id',\n",
    "    'Customer ID': 'customer_id',\n",
    "    'Category': 'category_type',\n",
    "    'Item': 'item_type',\n",
    "    'Price Per Unit': 'price_per_unit',\n",
    "    'Quantity': 'no_of_product_purchased',\n",
    "    'Total Spent': 'total_spent',\n",
    "    'Payment Method': 'payment_method',\n",
    "    'Location': 'address',\n",
    "    'Transaction Date': 'transaction_date',\n",
    "    'Discount Applied': 'discount_applied'\n",
    "}\n",
    "\n",
    "# Rename columns using the dictionary mapping\n",
    "for old_col, new_col in column_mapping.items():\n",
    "    spark_df = spark_df.withColumnRenamed(old_col, new_col)\n",
    "\n",
    "# Show the updated DataFrame\n",
    "spark_df.show(truncate=False)\n",
    "\n",
    "\n"
   ]
  },
  {
   "cell_type": "code",
   "execution_count": 53,
   "id": "78c1e1f9",
   "metadata": {},
   "outputs": [
    {
     "name": "stdout",
     "output_type": "stream",
     "text": [
      "['transaction_id', 'customer_id', 'category_type', 'item_type', 'price_per_unit', 'no_of_product_purchased', 'total_spent', 'payment_method', 'address', 'transaction_date', 'discount_applied']\n"
     ]
    }
   ],
   "source": [
    "# Verify the new column names\n",
    "print(spark_df.columns)"
   ]
  },
  {
   "cell_type": "code",
   "execution_count": 54,
   "id": "cb489c7d",
   "metadata": {},
   "outputs": [
    {
     "name": "stdout",
     "output_type": "stream",
     "text": [
      "Number of duplicate rows: 0\n"
     ]
    }
   ],
   "source": [
    "# Check for duplicate rows based on all columns\n",
    "duplicate_count = spark_df.count() - spark_df.dropDuplicates().count()\n",
    "print(f\"Number of duplicate rows: {duplicate_count}\")\n"
   ]
  },
  {
   "cell_type": "code",
   "execution_count": 55,
   "id": "b5019efe",
   "metadata": {},
   "outputs": [
    {
     "name": "stdout",
     "output_type": "stream",
     "text": [
      "+--------------+-----------+-------------+---------+--------------+-----------------------+-----------+--------------+-------+----------------+----------------+\n",
      "|transaction_id|customer_id|category_type|item_type|price_per_unit|no_of_product_purchased|total_spent|payment_method|address|transaction_date|discount_applied|\n",
      "+--------------+-----------+-------------+---------+--------------+-----------------------+-----------+--------------+-------+----------------+----------------+\n",
      "|0             |0          |0            |1213     |609           |604                    |604        |0             |0      |0               |4199            |\n",
      "+--------------+-----------+-------------+---------+--------------+-----------------------+-----------+--------------+-------+----------------+----------------+\n",
      "\n"
     ]
    }
   ],
   "source": [
    "from pyspark.sql import functions as F\n",
    "\n",
    "# Count null values in each column\n",
    "null_counts = spark_df.select([F.count(F.when(F.col(col).isNull(), col)).alias(col) for col in spark_df.columns])\n",
    "\n",
    "# Show null counts per column\n",
    "null_counts.show(truncate=False)\n"
   ]
  },
  {
   "cell_type": "code",
   "execution_count": 56,
   "id": "e6bb3c75",
   "metadata": {},
   "outputs": [
    {
     "name": "stdout",
     "output_type": "stream",
     "text": [
      "+--------------+-----------+-----------------------------+-------------+--------------+-----------------------+-----------+--------------+--------+----------------+----------------+\n",
      "|transaction_id|customer_id|category_type                |item_type    |price_per_unit|no_of_product_purchased|total_spent|payment_method|address |transaction_date|discount_applied|\n",
      "+--------------+-----------+-----------------------------+-------------+--------------+-----------------------+-----------+--------------+--------+----------------+----------------+\n",
      "|TXN_6867343   |CUST_09    |Patisserie                   |Item_10_PAT  |18.5          |10.0                   |185.0      |Digital Wallet|Online  |2024-04-08      |true            |\n",
      "|TXN_3731986   |CUST_22    |Milk Products                |Item_17_MILK |29.0          |9.0                    |261.0      |Digital Wallet|Online  |2023-07-23      |true            |\n",
      "|TXN_9303719   |CUST_02    |Butchers                     |Item_12_BUT  |21.5          |2.0                    |43.0       |Credit Card   |Online  |2022-10-05      |false           |\n",
      "|TXN_9458126   |CUST_06    |Beverages                    |Item_16_BEV  |27.5          |9.0                    |247.5      |Credit Card   |Online  |2022-05-07      |false           |\n",
      "|TXN_4575373   |CUST_05    |Food                         |Item_6_FOOD  |12.5          |7.0                    |87.5       |Digital Wallet|Online  |2022-10-02      |false           |\n",
      "|TXN_7482416   |CUST_09    |Patisserie                   |Not Specified|0.0           |10.0                   |200.0      |Credit Card   |Online  |2023-11-30      |false           |\n",
      "|TXN_3652209   |CUST_07    |Food                         |Item_1_FOOD  |5.0           |8.0                    |40.0       |Credit Card   |In-store|2023-06-10      |true            |\n",
      "|TXN_1372952   |CUST_21    |Furniture                    |Not Specified|33.5          |0.0                    |0.0        |Digital Wallet|In-store|2024-04-02      |true            |\n",
      "|TXN_9728486   |CUST_23    |Furniture                    |Item_16_FUR  |27.5          |1.0                    |27.5       |Credit Card   |In-store|2023-04-26      |false           |\n",
      "|TXN_2722661   |CUST_25    |Butchers                     |Item_22_BUT  |36.5          |3.0                    |109.5      |Cash          |Online  |2024-03-14      |false           |\n",
      "|TXN_8776416   |CUST_22    |Butchers                     |Item_3_BUT   |8.0           |9.0                    |72.0       |Cash          |In-store|2024-12-14      |true            |\n",
      "|TXN_5422631   |CUST_09    |Milk Products                |Not Specified|0.0           |8.0                    |52.0       |Digital Wallet|In-store|2025-01-12      |true            |\n",
      "|TXN_5874772   |CUST_23    |Food                         |Item_2_FOOD  |6.5           |7.0                    |45.5       |Cash          |Online  |2023-09-09      |true            |\n",
      "|TXN_4413070   |CUST_14    |Patisserie                   |Item_24_PAT  |39.5          |6.0                    |237.0      |Digital Wallet|In-store|2022-05-20      |false           |\n",
      "|TXN_2490363   |CUST_09    |Milk Products                |Item_16_MILK |27.5          |2.0                    |55.0       |Digital Wallet|Online  |2022-05-22      |false           |\n",
      "|TXN_1809665   |CUST_14    |Beverages                    |Not Specified|24.5          |0.0                    |0.0        |Credit Card   |In-store|2022-05-11      |false           |\n",
      "|TXN_7563311   |CUST_23    |Patisserie                   |Item_17_PAT  |29.0          |8.0                    |232.0      |Cash          |Online  |2024-11-16      |true            |\n",
      "|TXN_9634894   |CUST_15    |Milk Products                |Not Specified|0.0           |10.0                   |275.0      |Digital Wallet|Online  |2022-04-17      |false           |\n",
      "|TXN_4396807   |CUST_17    |Electric household essentials|Item_13_EHE  |23.0          |1.0                    |23.0       |Digital Wallet|In-store|2022-02-07      |false           |\n",
      "|TXN_4206593   |CUST_01    |Furniture                    |Not Specified|35.0          |0.0                    |0.0        |Digital Wallet|Online  |2025-01-13      |false           |\n",
      "+--------------+-----------+-----------------------------+-------------+--------------+-----------------------+-----------+--------------+--------+----------------+----------------+\n",
      "only showing top 20 rows\n",
      "\n"
     ]
    }
   ],
   "source": [
    "# Replace null values in specific columns\n",
    "spark_df = spark_df.fillna({               \n",
    "    'category_type': 'Uncategorized',        \n",
    "    'item_type': 'Not Specified',                  \n",
    "    'price_per_unit': 0.0,                   \n",
    "    'no_of_product_purchased': 0,            \n",
    "    'total_spent': 0.0,                      \n",
    "    'payment_method': 'Unknown',             \n",
    "    'address': 'Unknown',                    \n",
    "    'transaction_date': 'Unknown',           \n",
    "    'discount_applied': 'No'                 \n",
    "})\n",
    "\n",
    "spark_df.show(truncate=False)\n"
   ]
  },
  {
   "cell_type": "code",
   "execution_count": 57,
   "id": "9564d778",
   "metadata": {},
   "outputs": [
    {
     "name": "stdout",
     "output_type": "stream",
     "text": [
      "+--------------+-----------+-----------------------------+-------------+--------------+-----------------------+-----------+--------------+--------+----------------+----------------+\n",
      "|transaction_id|customer_id|category_type                |item_type    |price_per_unit|no_of_product_purchased|total_spent|payment_method|address |transaction_date|discount_applied|\n",
      "+--------------+-----------+-----------------------------+-------------+--------------+-----------------------+-----------+--------------+--------+----------------+----------------+\n",
      "|TXN_6867343   |CUST_09    |Patisserie                   |Item_10_PAT  |18.5          |10.0                   |185.0      |Digital Wallet|Online  |2024-04-08      |true            |\n",
      "|TXN_3731986   |CUST_22    |Milk Products                |Item_17_MILK |29.0          |9.0                    |261.0      |Digital Wallet|Online  |2023-07-23      |true            |\n",
      "|TXN_9303719   |CUST_02    |Butchers                     |Item_12_BUT  |21.5          |2.0                    |43.0       |Credit Card   |Online  |2022-10-05      |false           |\n",
      "|TXN_9458126   |CUST_06    |Beverages                    |Item_16_BEV  |27.5          |9.0                    |247.5      |Credit Card   |Online  |2022-05-07      |false           |\n",
      "|TXN_4575373   |CUST_05    |Food                         |Item_6_FOOD  |12.5          |7.0                    |87.5       |Digital Wallet|Online  |2022-10-02      |false           |\n",
      "|TXN_7482416   |CUST_09    |Patisserie                   |Not Specified|0.0           |10.0                   |200.0      |Credit Card   |Online  |2023-11-30      |false           |\n",
      "|TXN_3652209   |CUST_07    |Food                         |Item_1_FOOD  |5.0           |8.0                    |40.0       |Credit Card   |In-store|2023-06-10      |true            |\n",
      "|TXN_9728486   |CUST_23    |Furniture                    |Item_16_FUR  |27.5          |1.0                    |27.5       |Credit Card   |In-store|2023-04-26      |false           |\n",
      "|TXN_2722661   |CUST_25    |Butchers                     |Item_22_BUT  |36.5          |3.0                    |109.5      |Cash          |Online  |2024-03-14      |false           |\n",
      "|TXN_8776416   |CUST_22    |Butchers                     |Item_3_BUT   |8.0           |9.0                    |72.0       |Cash          |In-store|2024-12-14      |true            |\n",
      "|TXN_5422631   |CUST_09    |Milk Products                |Not Specified|0.0           |8.0                    |52.0       |Digital Wallet|In-store|2025-01-12      |true            |\n",
      "|TXN_5874772   |CUST_23    |Food                         |Item_2_FOOD  |6.5           |7.0                    |45.5       |Cash          |Online  |2023-09-09      |true            |\n",
      "|TXN_4413070   |CUST_14    |Patisserie                   |Item_24_PAT  |39.5          |6.0                    |237.0      |Digital Wallet|In-store|2022-05-20      |false           |\n",
      "|TXN_2490363   |CUST_09    |Milk Products                |Item_16_MILK |27.5          |2.0                    |55.0       |Digital Wallet|Online  |2022-05-22      |false           |\n",
      "|TXN_7563311   |CUST_23    |Patisserie                   |Item_17_PAT  |29.0          |8.0                    |232.0      |Cash          |Online  |2024-11-16      |true            |\n",
      "|TXN_9634894   |CUST_15    |Milk Products                |Not Specified|0.0           |10.0                   |275.0      |Digital Wallet|Online  |2022-04-17      |false           |\n",
      "|TXN_4396807   |CUST_17    |Electric household essentials|Item_13_EHE  |23.0          |1.0                    |23.0       |Digital Wallet|In-store|2022-02-07      |false           |\n",
      "|TXN_9939063   |CUST_14    |Beverages                    |Item_7_BEV   |14.0          |9.0                    |126.0      |Digital Wallet|In-store|2024-01-14      |false           |\n",
      "|TXN_8685338   |CUST_15    |Milk Products                |Not Specified|0.0           |3.0                    |105.0      |Credit Card   |In-store|2023-10-29      |false           |\n",
      "|TXN_6547964   |CUST_10    |Electric household essentials|Item_4_EHE   |9.5           |7.0                    |66.5       |Cash          |In-store|2022-08-15      |false           |\n",
      "+--------------+-----------+-----------------------------+-------------+--------------+-----------------------+-----------+--------------+--------+----------------+----------------+\n",
      "only showing top 20 rows\n",
      "\n"
     ]
    }
   ],
   "source": [
    "# Filter out customers who haven't purchased any products (i.e., no_of_product_purchased = 0 or isNull)\n",
    "spark_df = spark_df.filter((F.col('no_of_product_purchased') > 0) & (F.col('no_of_product_purchased').isNotNull()))\n",
    "\n",
    "# Show the filtered DataFrame\n",
    "spark_df.show(truncate=False)\n"
   ]
  },
  {
   "cell_type": "code",
   "execution_count": 58,
   "id": "c9753018",
   "metadata": {},
   "outputs": [
    {
     "name": "stderr",
     "output_type": "stream",
     "text": [
      "\r",
      "[Stage 72:>                                                         (0 + 1) / 1]\r",
      "\r",
      "                                                                                \r"
     ]
    }
   ],
   "source": [
    "# Save the filtered DataFrame to CSV\n",
    "#output_path = \"/Users/abhishekkumar/Downloads/Project_Dataset/Retail/filtered_customers.csv\"\n",
    "\n",
    "#spark_df.write.option(\"header\", \"true\").csv(output_path)\n"
   ]
  },
  {
   "cell_type": "code",
   "execution_count": 59,
   "id": "8f5cd11b",
   "metadata": {},
   "outputs": [
    {
     "name": "stderr",
     "output_type": "stream",
     "text": [
      "                                                                                \r"
     ]
    }
   ],
   "source": [
    "# Save the DataFrame as Parquet file\n",
    "#output_path_parquet = \"/Users/abhishekkumar/Downloads/Project_Dataset/Retail/filtered_customers.parquet\"\n",
    "#spark_df.write.option(\"header\", \"true\").parquet(output_path_parquet)\n"
   ]
  },
  {
   "cell_type": "code",
   "execution_count": 61,
   "id": "e81228e4",
   "metadata": {},
   "outputs": [
    {
     "name": "stdout",
     "output_type": "stream",
     "text": [
      "File has been successfully saved to /Users/abhishekkumar/Downloads/Project_Dataset/Retail/filtered_customers.parquet\n"
     ]
    }
   ],
   "source": [
    "import os\n",
    "from pyspark.sql import functions as F\n",
    "\n",
    "\n",
    "# Specify output file path\n",
    "output_path = \"/Users/abhishekkumar/Downloads/Project_Dataset/Retail/filtered_customers.csv\"\n",
    "output_path = \"/Users/abhishekkumar/Downloads/Project_Dataset/Retail/filtered_customers.parquet\"\n",
    "try:\n",
    "    # Check if the directory exists, if not raise an exception\n",
    "    if not os.path.exists(os.path.dirname(output_path)):\n",
    "        raise FileNotFoundError(f\"The directory {os.path.dirname(output_path)} does not exist.\")\n",
    "\n",
    "    # Save the DataFrame as CSV\n",
    "    spark_df.write.option(\"header\", \"true\").csv(output_path)\n",
    "\n",
    "    # If everything goes fine, print success message\n",
    "    print(f\"File has been successfully saved to {output_path}\")\n",
    "\n",
    "except FileNotFoundError as fnf_error:\n",
    "    print(f\"Error: {fnf_error}\")\n",
    "\n",
    "except Exception as e:\n",
    "    # Catch any other exceptions that may arise (e.g., file system issues, permissions, etc.)\n",
    "    print(f\"An error occurred while saving the file: {e}\")\n"
   ]
  },
  {
   "cell_type": "code",
   "execution_count": null,
   "id": "9e720b9b",
   "metadata": {},
   "outputs": [],
   "source": []
  }
 ],
 "metadata": {
  "kernelspec": {
   "display_name": "Python 3 (ipykernel)",
   "language": "python",
   "name": "python3"
  },
  "language_info": {
   "codemirror_mode": {
    "name": "ipython",
    "version": 3
   },
   "file_extension": ".py",
   "mimetype": "text/x-python",
   "name": "python",
   "nbconvert_exporter": "python",
   "pygments_lexer": "ipython3",
   "version": "3.11.5"
  }
 },
 "nbformat": 4,
 "nbformat_minor": 5
}
